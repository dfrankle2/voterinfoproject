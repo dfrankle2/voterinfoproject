{
  "nbformat": 4,
  "nbformat_minor": 0,
  "metadata": {
    "colab": {
      "name": "Copy of Big Sleep Tweaked",
      "provenance": [],
      "collapsed_sections": [],
      "include_colab_link": true
    },
    "kernelspec": {
      "name": "python3",
      "display_name": "Python 3"
    },
    "accelerator": "GPU"
  },
  "cells": [
    {
      "cell_type": "markdown",
      "metadata": {
        "id": "view-in-github",
        "colab_type": "text"
      },
      "source": [
        "<a href=\"https://colab.research.google.com/github/dfrankle2/voterinfoproject/blob/master/Copy_of_Big_Sleep_Tweaked.ipynb\" target=\"_parent\"><img src=\"https://colab.research.google.com/assets/colab-badge.svg\" alt=\"Open In Colab\"/></a>"
      ]
    },
    {
      "cell_type": "markdown",
      "metadata": {
        "id": "4NAzOO_7Rcnn"
      },
      "source": [
        "# BEFORE RUNNING: Go to File > Save a copy in Drive to save a copy in your drive\n",
        "\n",
        "---\n",
        "\n"
      ]
    },
    {
      "cell_type": "markdown",
      "metadata": {
        "id": "VleLNr7NQQsT"
      },
      "source": [
        "# Run this first"
      ]
    },
    {
      "cell_type": "code",
      "metadata": {
        "id": "D2jUsCZXaqcw",
        "colab": {
          "base_uri": "https://localhost:8080/"
        },
        "outputId": "7796d1e3-8a27-4389-8cc2-411d3f732d58"
      },
      "source": [
        "!pip install big-sleep --upgrade\n",
        "!nvidia-smi"
      ],
      "execution_count": 1,
      "outputs": [
        {
          "output_type": "stream",
          "name": "stdout",
          "text": [
            "Requirement already satisfied: big-sleep in /usr/local/lib/python3.7/dist-packages (0.8.5)\n",
            "Requirement already satisfied: torch>=1.7.1 in /usr/local/lib/python3.7/dist-packages (from big-sleep) (1.10.0+cu111)\n",
            "Requirement already satisfied: regex in /usr/local/lib/python3.7/dist-packages (from big-sleep) (2019.12.20)\n",
            "Requirement already satisfied: tqdm in /usr/local/lib/python3.7/dist-packages (from big-sleep) (4.62.3)\n",
            "Requirement already satisfied: pytorch-pretrained-biggan in /usr/local/lib/python3.7/dist-packages (from big-sleep) (0.1.1)\n",
            "Requirement already satisfied: torchvision>=0.8.2 in /usr/local/lib/python3.7/dist-packages (from big-sleep) (0.11.1+cu111)\n",
            "Requirement already satisfied: einops>=0.3 in /usr/local/lib/python3.7/dist-packages (from big-sleep) (0.3.2)\n",
            "Requirement already satisfied: fire in /usr/local/lib/python3.7/dist-packages (from big-sleep) (0.4.0)\n",
            "Requirement already satisfied: ftfy in /usr/local/lib/python3.7/dist-packages (from big-sleep) (6.0.3)\n",
            "Requirement already satisfied: typing-extensions in /usr/local/lib/python3.7/dist-packages (from torch>=1.7.1->big-sleep) (3.10.0.2)\n",
            "Requirement already satisfied: pillow!=8.3.0,>=5.3.0 in /usr/local/lib/python3.7/dist-packages (from torchvision>=0.8.2->big-sleep) (7.1.2)\n",
            "Requirement already satisfied: numpy in /usr/local/lib/python3.7/dist-packages (from torchvision>=0.8.2->big-sleep) (1.19.5)\n",
            "Requirement already satisfied: six in /usr/local/lib/python3.7/dist-packages (from fire->big-sleep) (1.15.0)\n",
            "Requirement already satisfied: termcolor in /usr/local/lib/python3.7/dist-packages (from fire->big-sleep) (1.1.0)\n",
            "Requirement already satisfied: wcwidth in /usr/local/lib/python3.7/dist-packages (from ftfy->big-sleep) (0.2.5)\n",
            "Requirement already satisfied: requests in /usr/local/lib/python3.7/dist-packages (from pytorch-pretrained-biggan->big-sleep) (2.23.0)\n",
            "Requirement already satisfied: boto3 in /usr/local/lib/python3.7/dist-packages (from pytorch-pretrained-biggan->big-sleep) (1.20.16)\n",
            "Requirement already satisfied: jmespath<1.0.0,>=0.7.1 in /usr/local/lib/python3.7/dist-packages (from boto3->pytorch-pretrained-biggan->big-sleep) (0.10.0)\n",
            "Requirement already satisfied: botocore<1.24.0,>=1.23.16 in /usr/local/lib/python3.7/dist-packages (from boto3->pytorch-pretrained-biggan->big-sleep) (1.23.16)\n",
            "Requirement already satisfied: s3transfer<0.6.0,>=0.5.0 in /usr/local/lib/python3.7/dist-packages (from boto3->pytorch-pretrained-biggan->big-sleep) (0.5.0)\n",
            "Requirement already satisfied: python-dateutil<3.0.0,>=2.1 in /usr/local/lib/python3.7/dist-packages (from botocore<1.24.0,>=1.23.16->boto3->pytorch-pretrained-biggan->big-sleep) (2.8.2)\n",
            "Requirement already satisfied: urllib3<1.27,>=1.25.4 in /usr/local/lib/python3.7/dist-packages (from botocore<1.24.0,>=1.23.16->boto3->pytorch-pretrained-biggan->big-sleep) (1.25.11)\n",
            "Requirement already satisfied: idna<3,>=2.5 in /usr/local/lib/python3.7/dist-packages (from requests->pytorch-pretrained-biggan->big-sleep) (2.10)\n",
            "Requirement already satisfied: certifi>=2017.4.17 in /usr/local/lib/python3.7/dist-packages (from requests->pytorch-pretrained-biggan->big-sleep) (2021.10.8)\n",
            "Requirement already satisfied: chardet<4,>=3.0.2 in /usr/local/lib/python3.7/dist-packages (from requests->pytorch-pretrained-biggan->big-sleep) (3.0.4)\n",
            "Tue Nov 30 01:09:24 2021       \n",
            "+-----------------------------------------------------------------------------+\n",
            "| NVIDIA-SMI 495.44       Driver Version: 460.32.03    CUDA Version: 11.2     |\n",
            "|-------------------------------+----------------------+----------------------+\n",
            "| GPU  Name        Persistence-M| Bus-Id        Disp.A | Volatile Uncorr. ECC |\n",
            "| Fan  Temp  Perf  Pwr:Usage/Cap|         Memory-Usage | GPU-Util  Compute M. |\n",
            "|                               |                      |               MIG M. |\n",
            "|===============================+======================+======================|\n",
            "|   0  Tesla K80           Off  | 00000000:00:04.0 Off |                    0 |\n",
            "| N/A   70C    P0    61W / 149W |      0MiB / 11441MiB |      0%      Default |\n",
            "|                               |                      |                  N/A |\n",
            "+-------------------------------+----------------------+----------------------+\n",
            "                                                                               \n",
            "+-----------------------------------------------------------------------------+\n",
            "| Processes:                                                                  |\n",
            "|  GPU   GI   CI        PID   Type   Process name                  GPU Memory |\n",
            "|        ID   ID                                                   Usage      |\n",
            "|=============================================================================|\n",
            "|  No running processes found                                                 |\n",
            "+-----------------------------------------------------------------------------+\n"
          ]
        }
      ]
    },
    {
      "cell_type": "markdown",
      "metadata": {
        "id": "rH4Mh5aFQX_F"
      },
      "source": [
        "# Generate images\n",
        "Enter your prompt in the \"Text\" field to the right of the code box below.\n",
        "\n",
        "You can supply it with multiple phrases at once using backslashes to seperate them to attempt to further specify what the image should be, e.g:\n",
        "\n",
        "```\n",
        "an armchair in the form of pikachu\\an armchair imitating pikachu\\abstract\n",
        "```\n",
        "\n",
        "The model will train for 20 epochs. Running the entire course is not recommended because it'll take a very very long time and Colab will probably time you out. On average there's a coherent and decent output before the end of the first epoch but you can go for longer if you want.\n",
        "\n",
        "To stop a run, you might need to click the \"stop\" button 3 times which will have Colab prompt you to reset the runtime.\n",
        "\n",
        "\n",
        "---\n",
        "\n",
        "\n",
        "Parameters:\n",
        "\n",
        "TEXT - This is the prompt you want the AI to use to generate your image. It's ideal to use something descriptive but not a requirement.\n",
        "\n",
        "SAVE_EVERY - Default: 100 - How often the output image will be saved and displayed.\n",
        "\n",
        "SAVE_PROGRESS - Default: False - Saves the output so that it can be resumed\n",
        "\n",
        "\n",
        "\n",
        "LEARNING_RATE - Default: 8e-2 - Affects how much compensation there is for approximated errors. Values too low can result in the output not resembling the prompt at all (especially for more obscure prompts) or stagnating and barely changing, values too high can result in the output being too wild or can result in a feedback loop where the image completely breaks down.\n",
        "\n",
        "It's often easier for the AI to figure out more obscure or weird prompts with a higher learning rate (often, at low learning rates the AI will commonly output images of animals for more obscure prompts.) but raising the learning rate often leads to less stability.\n",
        "\n",
        "This value takes a lot of work to fine-tune. I usually set it to something higher. 2e-1 (0.2) can result in some great output but it's common to see the images break down with such a high value. 8e-2 (0.08) is probably a decent balance. Play around for yourself. Different prompts work better with different learning rates.\n"
      ]
    },
    {
      "cell_type": "code",
      "metadata": {
        "id": "NfJ0RMCAauV3",
        "colab": {
          "base_uri": "https://localhost:8080/",
          "height": 1000
        },
        "outputId": "b29d4477-e308-489d-c27f-fb9dc49e77ea"
      },
      "source": [
        "from tqdm import trange\n",
        "import string\n",
        "from IPython.display import Image, display\n",
        "\n",
        "from big_sleep import Imagine\n",
        "\n",
        "TEXT = \"ocean deep\\\\abstract\\\\in the style of monet\" #@param {type:\"string\"}\n",
        "\n",
        "#Default: 100\n",
        "SAVE_EVERY = 10 #@param {type:\"number\"} \n",
        "\n",
        "#Default: False\n",
        "SAVE_PROGRESS = True #@param {type:\"boolean\"}\n",
        "\n",
        "#Default: False\n",
        "#EXPERIMENTAL_RESAMPLE = False #@param {type:\"boolean\"}\n",
        "\n",
        "#Default: 8e-2\n",
        "LEARNING_RATE =  3e-2#@param {type:\"number\"}\n",
        "\n",
        "#Default: 1050\n",
        "ITERATIONS = 100 #@param {type:\"number\"} \n",
        "\n",
        "model = Imagine(\n",
        "    text = TEXT,\n",
        "    save_every = SAVE_EVERY,\n",
        "    lr = LEARNING_RATE,\n",
        "    iterations = ITERATIONS,\n",
        "    save_progress = SAVE_PROGRESS,\n",
        "    #experimental_resample = EXPERIMENTAL_RESAMPLE\n",
        ")\n",
        "\n",
        "for epoch in trange(20, desc = 'epochs'):\n",
        "    for i in trange(1000, desc = 'iteration'):\n",
        "        model.train_step(epoch, i)\n",
        "\n",
        "        if i == 0 or i % model.save_every != 0:\n",
        "            continue\n",
        "\n",
        "        filename = TEXT.translate(str.maketrans('', '', string.punctuation)).replace(' ', '_')\n",
        "        image = Image(f'./{filename}.png')\n",
        "        display(image)"
      ],
      "execution_count": null,
      "outputs": [
        {
          "output_type": "stream",
          "name": "stderr",
          "text": [
            "epochs:   0%|          | 0/20 [00:00<?, ?it/s]\n",
            "iteration:   0%|          | 0/1000 [00:00<?, ?it/s]\u001b[A\n",
            "iteration:   0%|          | 1/1000 [00:06<1:47:36,  6.46s/it]\u001b[A\n",
            "iteration:   0%|          | 2/1000 [00:12<1:47:17,  6.45s/it]\u001b[A\n",
            "iteration:   0%|          | 3/1000 [00:19<1:47:12,  6.45s/it]\u001b[A\n",
            "iteration:   0%|          | 4/1000 [00:25<1:47:13,  6.46s/it]\u001b[A\n",
            "iteration:   0%|          | 5/1000 [00:32<1:47:05,  6.46s/it]\u001b[A\n",
            "iteration:   1%|          | 6/1000 [00:38<1:46:58,  6.46s/it]\u001b[A\n",
            "iteration:   1%|          | 7/1000 [00:45<1:46:49,  6.45s/it]\u001b[A\n",
            "iteration:   1%|          | 8/1000 [00:51<1:46:46,  6.46s/it]\u001b[A\n",
            "iteration:   1%|          | 9/1000 [00:58<1:46:35,  6.45s/it]\u001b[A\n",
            "iteration:   1%|          | 10/1000 [01:07<2:00:31,  7.30s/it]\u001b[A"
          ]
        },
        {
          "output_type": "stream",
          "name": "stdout",
          "text": [
            "image updated at \"./ocean_deep\\abstract\\in_the_style_of_monet.png\"\n"
          ]
        },
        {
          "output_type": "display_data",
          "data": {
            "image/png": "./ocean_deepabstractin_the_style_of_monet.png",
            "text/plain": [
              "<IPython.core.display.Image object>"
            ]
          },
          "metadata": {}
        },
        {
          "output_type": "stream",
          "name": "stderr",
          "text": [
            "\n",
            "iteration:   1%|          | 11/1000 [01:13<1:55:50,  7.03s/it]\u001b[A\n",
            "iteration:   1%|          | 12/1000 [01:20<1:52:52,  6.85s/it]\u001b[A\n",
            "iteration:   1%|▏         | 13/1000 [01:26<1:50:44,  6.73s/it]\u001b[A\n",
            "iteration:   1%|▏         | 14/1000 [01:33<1:49:13,  6.65s/it]\u001b[A\n",
            "iteration:   2%|▏         | 15/1000 [01:39<1:48:08,  6.59s/it]\u001b[A\n",
            "iteration:   2%|▏         | 16/1000 [01:45<1:47:23,  6.55s/it]\u001b[A\n",
            "iteration:   2%|▏         | 17/1000 [01:52<1:46:49,  6.52s/it]\u001b[A\n",
            "iteration:   2%|▏         | 18/1000 [01:58<1:46:23,  6.50s/it]\u001b[A\n",
            "iteration:   2%|▏         | 19/1000 [02:05<1:46:02,  6.49s/it]\u001b[A\n",
            "iteration:   2%|▏         | 20/1000 [02:14<1:59:11,  7.30s/it]\u001b[A"
          ]
        },
        {
          "output_type": "stream",
          "name": "stdout",
          "text": [
            "image updated at \"./ocean_deep\\abstract\\in_the_style_of_monet.png\"\n"
          ]
        },
        {
          "output_type": "display_data",
          "data": {
            "image/png": "./ocean_deepabstractin_the_style_of_monet.png",
            "text/plain": [
              "<IPython.core.display.Image object>"
            ]
          },
          "metadata": {}
        },
        {
          "output_type": "stream",
          "name": "stderr",
          "text": [
            "\n",
            "iteration:   2%|▏         | 21/1000 [02:20<1:54:39,  7.03s/it]\u001b[A\n",
            "iteration:   2%|▏         | 22/1000 [02:27<1:51:42,  6.85s/it]\u001b[A\n",
            "iteration:   2%|▏         | 23/1000 [02:33<1:49:35,  6.73s/it]\u001b[A\n",
            "iteration:   2%|▏         | 24/1000 [02:40<1:48:04,  6.64s/it]\u001b[A\n",
            "iteration:   2%|▎         | 25/1000 [02:46<1:47:00,  6.58s/it]\u001b[A\n",
            "iteration:   3%|▎         | 26/1000 [02:53<1:46:15,  6.55s/it]\u001b[A\n",
            "iteration:   3%|▎         | 27/1000 [02:59<1:45:40,  6.52s/it]\u001b[A\n",
            "iteration:   3%|▎         | 28/1000 [03:06<1:45:16,  6.50s/it]\u001b[A\n",
            "iteration:   3%|▎         | 29/1000 [03:12<1:44:54,  6.48s/it]\u001b[A\n",
            "iteration:   3%|▎         | 30/1000 [03:21<1:57:53,  7.29s/it]\u001b[A"
          ]
        },
        {
          "output_type": "stream",
          "name": "stdout",
          "text": [
            "image updated at \"./ocean_deep\\abstract\\in_the_style_of_monet.png\"\n"
          ]
        },
        {
          "output_type": "display_data",
          "data": {
            "image/png": "./ocean_deepabstractin_the_style_of_monet.png",
            "text/plain": [
              "<IPython.core.display.Image object>"
            ]
          },
          "metadata": {}
        },
        {
          "output_type": "stream",
          "name": "stderr",
          "text": [
            "\n",
            "iteration:   3%|▎         | 31/1000 [03:28<1:53:24,  7.02s/it]\u001b[A\n",
            "iteration:   3%|▎         | 32/1000 [03:34<1:50:28,  6.85s/it]\u001b[A\n",
            "iteration:   3%|▎         | 33/1000 [03:40<1:48:24,  6.73s/it]\u001b[A\n",
            "iteration:   3%|▎         | 34/1000 [03:47<1:46:56,  6.64s/it]\u001b[A\n",
            "iteration:   4%|▎         | 35/1000 [03:53<1:45:57,  6.59s/it]\u001b[A\n",
            "iteration:   4%|▎         | 36/1000 [04:00<1:45:13,  6.55s/it]\u001b[A\n",
            "iteration:   4%|▎         | 37/1000 [04:06<1:44:42,  6.52s/it]\u001b[A\n",
            "iteration:   4%|▍         | 38/1000 [04:13<1:44:20,  6.51s/it]\u001b[A\n",
            "iteration:   4%|▍         | 39/1000 [04:19<1:43:58,  6.49s/it]\u001b[A\n",
            "iteration:   4%|▍         | 40/1000 [04:28<1:56:44,  7.30s/it]\u001b[A"
          ]
        },
        {
          "output_type": "stream",
          "name": "stdout",
          "text": [
            "image updated at \"./ocean_deep\\abstract\\in_the_style_of_monet.png\"\n"
          ]
        },
        {
          "output_type": "display_data",
          "data": {
            "image/png": "./ocean_deepabstractin_the_style_of_monet.png",
            "text/plain": [
              "<IPython.core.display.Image object>"
            ]
          },
          "metadata": {}
        },
        {
          "output_type": "stream",
          "name": "stderr",
          "text": [
            "\n",
            "iteration:   4%|▍         | 41/1000 [04:35<1:52:18,  7.03s/it]\u001b[A\n",
            "iteration:   4%|▍         | 42/1000 [04:41<1:49:26,  6.85s/it]\u001b[A\n",
            "iteration:   4%|▍         | 43/1000 [04:48<1:47:26,  6.74s/it]\u001b[A\n",
            "iteration:   4%|▍         | 44/1000 [04:54<1:45:58,  6.65s/it]\u001b[A\n",
            "iteration:   4%|▍         | 45/1000 [05:01<1:44:58,  6.60s/it]\u001b[A\n",
            "iteration:   5%|▍         | 46/1000 [05:07<1:44:13,  6.56s/it]\u001b[A\n",
            "iteration:   5%|▍         | 47/1000 [05:14<1:43:43,  6.53s/it]\u001b[A\n",
            "iteration:   5%|▍         | 48/1000 [05:20<1:43:16,  6.51s/it]\u001b[A\n",
            "iteration:   5%|▍         | 49/1000 [05:26<1:42:53,  6.49s/it]\u001b[A\n",
            "iteration:   5%|▌         | 50/1000 [05:36<1:55:28,  7.29s/it]\u001b[A"
          ]
        },
        {
          "output_type": "stream",
          "name": "stdout",
          "text": [
            "image updated at \"./ocean_deep\\abstract\\in_the_style_of_monet.png\"\n"
          ]
        },
        {
          "output_type": "display_data",
          "data": {
            "image/png": "./ocean_deepabstractin_the_style_of_monet.png",
            "text/plain": [
              "<IPython.core.display.Image object>"
            ]
          },
          "metadata": {}
        },
        {
          "output_type": "stream",
          "name": "stderr",
          "text": [
            "\n",
            "iteration:   5%|▌         | 51/1000 [05:42<1:51:06,  7.03s/it]\u001b[A\n",
            "iteration:   5%|▌         | 52/1000 [05:48<1:48:08,  6.84s/it]\u001b[A\n",
            "iteration:   5%|▌         | 53/1000 [05:55<1:46:05,  6.72s/it]\u001b[A\n",
            "iteration:   5%|▌         | 54/1000 [06:01<1:44:35,  6.63s/it]\u001b[A\n",
            "iteration:   6%|▌         | 55/1000 [06:08<1:43:31,  6.57s/it]\u001b[A\n",
            "iteration:   6%|▌         | 56/1000 [06:14<1:42:47,  6.53s/it]\u001b[A\n",
            "iteration:   6%|▌         | 57/1000 [06:21<1:42:13,  6.50s/it]\u001b[A\n",
            "iteration:   6%|▌         | 58/1000 [06:27<1:41:42,  6.48s/it]\u001b[A\n",
            "iteration:   6%|▌         | 59/1000 [06:33<1:41:17,  6.46s/it]\u001b[A\n",
            "iteration:   6%|▌         | 60/1000 [06:43<1:53:42,  7.26s/it]\u001b[A"
          ]
        },
        {
          "output_type": "stream",
          "name": "stdout",
          "text": [
            "image updated at \"./ocean_deep\\abstract\\in_the_style_of_monet.png\"\n"
          ]
        },
        {
          "output_type": "display_data",
          "data": {
            "image/png": "./ocean_deepabstractin_the_style_of_monet.png",
            "text/plain": [
              "<IPython.core.display.Image object>"
            ]
          },
          "metadata": {}
        },
        {
          "output_type": "stream",
          "name": "stderr",
          "text": [
            "\n",
            "iteration:   6%|▌         | 61/1000 [06:49<1:49:26,  6.99s/it]\u001b[A\n",
            "iteration:   6%|▌         | 62/1000 [06:55<1:46:36,  6.82s/it]\u001b[A\n",
            "iteration:   6%|▋         | 63/1000 [07:02<1:44:40,  6.70s/it]\u001b[A\n",
            "iteration:   6%|▋         | 64/1000 [07:08<1:43:19,  6.62s/it]\u001b[A\n",
            "iteration:   6%|▋         | 65/1000 [07:15<1:42:23,  6.57s/it]\u001b[A\n",
            "iteration:   7%|▋         | 66/1000 [07:21<1:41:41,  6.53s/it]\u001b[A\n",
            "iteration:   7%|▋         | 67/1000 [07:28<1:41:12,  6.51s/it]\u001b[A\n",
            "iteration:   7%|▋         | 68/1000 [07:34<1:40:46,  6.49s/it]\u001b[A\n",
            "iteration:   7%|▋         | 69/1000 [07:40<1:40:30,  6.48s/it]\u001b[A\n",
            "iteration:   7%|▋         | 70/1000 [07:50<1:52:53,  7.28s/it]\u001b[A"
          ]
        },
        {
          "output_type": "stream",
          "name": "stdout",
          "text": [
            "image updated at \"./ocean_deep\\abstract\\in_the_style_of_monet.png\"\n"
          ]
        },
        {
          "output_type": "display_data",
          "data": {
            "image/png": "./ocean_deepabstractin_the_style_of_monet.png",
            "text/plain": [
              "<IPython.core.display.Image object>"
            ]
          },
          "metadata": {}
        },
        {
          "output_type": "stream",
          "name": "stderr",
          "text": [
            "\n",
            "iteration:   7%|▋         | 71/1000 [07:56<1:48:39,  7.02s/it]\u001b[A\n",
            "iteration:   7%|▋         | 72/1000 [08:02<1:45:51,  6.84s/it]\u001b[A\n",
            "iteration:   7%|▋         | 73/1000 [08:09<1:43:53,  6.72s/it]\u001b[A\n",
            "iteration:   7%|▋         | 74/1000 [08:15<1:42:30,  6.64s/it]\u001b[A\n",
            "iteration:   8%|▊         | 75/1000 [08:22<1:41:29,  6.58s/it]\u001b[A\n",
            "iteration:   8%|▊         | 76/1000 [08:28<1:40:47,  6.55s/it]\u001b[A\n",
            "iteration:   8%|▊         | 77/1000 [08:35<1:40:13,  6.52s/it]\u001b[A\n",
            "iteration:   8%|▊         | 78/1000 [08:41<1:39:48,  6.50s/it]\u001b[A\n",
            "iteration:   8%|▊         | 79/1000 [08:48<1:39:28,  6.48s/it]\u001b[A\n",
            "iteration:   8%|▊         | 80/1000 [08:57<1:51:44,  7.29s/it]\u001b[A"
          ]
        },
        {
          "output_type": "stream",
          "name": "stdout",
          "text": [
            "image updated at \"./ocean_deep\\abstract\\in_the_style_of_monet.png\"\n"
          ]
        },
        {
          "output_type": "display_data",
          "data": {
            "image/png": "./ocean_deepabstractin_the_style_of_monet.png",
            "text/plain": [
              "<IPython.core.display.Image object>"
            ]
          },
          "metadata": {}
        },
        {
          "output_type": "stream",
          "name": "stderr",
          "text": [
            "\n",
            "iteration:   8%|▊         | 81/1000 [09:03<1:47:31,  7.02s/it]\u001b[A\n",
            "iteration:   8%|▊         | 82/1000 [09:10<1:44:45,  6.85s/it]\u001b[A\n",
            "iteration:   8%|▊         | 83/1000 [09:16<1:42:51,  6.73s/it]\u001b[A\n",
            "iteration:   8%|▊         | 84/1000 [09:23<1:41:32,  6.65s/it]\u001b[A\n",
            "iteration:   8%|▊         | 85/1000 [09:29<1:40:31,  6.59s/it]\u001b[A\n",
            "iteration:   9%|▊         | 86/1000 [09:35<1:39:43,  6.55s/it]\u001b[A\n",
            "iteration:   9%|▊         | 87/1000 [09:42<1:39:16,  6.52s/it]\u001b[A\n",
            "iteration:   9%|▉         | 88/1000 [09:48<1:38:50,  6.50s/it]\u001b[A\n",
            "iteration:   9%|▉         | 89/1000 [09:55<1:38:31,  6.49s/it]\u001b[A\n",
            "iteration:   9%|▉         | 90/1000 [10:04<1:50:40,  7.30s/it]\u001b[A"
          ]
        },
        {
          "output_type": "stream",
          "name": "stdout",
          "text": [
            "image updated at \"./ocean_deep\\abstract\\in_the_style_of_monet.png\"\n"
          ]
        },
        {
          "output_type": "display_data",
          "data": {
            "image/png": "./ocean_deepabstractin_the_style_of_monet.png",
            "text/plain": [
              "<IPython.core.display.Image object>"
            ]
          },
          "metadata": {}
        },
        {
          "output_type": "stream",
          "name": "stderr",
          "text": [
            "\n",
            "iteration:   9%|▉         | 91/1000 [10:10<1:46:25,  7.03s/it]\u001b[A\n",
            "iteration:   9%|▉         | 92/1000 [10:17<1:43:40,  6.85s/it]\u001b[A\n",
            "iteration:   9%|▉         | 93/1000 [10:23<1:41:44,  6.73s/it]\u001b[A\n",
            "iteration:   9%|▉         | 94/1000 [10:30<1:40:21,  6.65s/it]\u001b[A\n",
            "iteration:  10%|▉         | 95/1000 [10:36<1:39:22,  6.59s/it]\u001b[A\n",
            "iteration:  10%|▉         | 96/1000 [10:43<1:38:36,  6.54s/it]\u001b[A\n",
            "iteration:  10%|▉         | 97/1000 [10:49<1:38:06,  6.52s/it]\u001b[A\n",
            "iteration:  10%|▉         | 98/1000 [10:56<1:37:39,  6.50s/it]\u001b[A\n",
            "iteration:  10%|▉         | 99/1000 [11:02<1:37:18,  6.48s/it]\u001b[A\n",
            "iteration:  10%|█         | 100/1000 [11:11<1:49:21,  7.29s/it]\u001b[A"
          ]
        },
        {
          "output_type": "stream",
          "name": "stdout",
          "text": [
            "image updated at \"./ocean_deep\\abstract\\in_the_style_of_monet.png\"\n"
          ]
        },
        {
          "output_type": "display_data",
          "data": {
            "image/png": "./ocean_deepabstractin_the_style_of_monet.png",
            "text/plain": [
              "<IPython.core.display.Image object>"
            ]
          },
          "metadata": {}
        },
        {
          "output_type": "stream",
          "name": "stderr",
          "text": [
            "\n",
            "iteration:  10%|█         | 101/1000 [11:18<1:45:11,  7.02s/it]\u001b[A\n",
            "iteration:  10%|█         | 102/1000 [11:24<1:42:30,  6.85s/it]\u001b[A\n",
            "iteration:  10%|█         | 103/1000 [11:30<1:40:34,  6.73s/it]\u001b[A\n",
            "iteration:  10%|█         | 104/1000 [11:37<1:39:12,  6.64s/it]\u001b[A\n",
            "iteration:  10%|█         | 105/1000 [11:43<1:38:12,  6.58s/it]\u001b[A\n",
            "iteration:  11%|█         | 106/1000 [11:50<1:37:29,  6.54s/it]\u001b[A\n",
            "iteration:  11%|█         | 107/1000 [11:56<1:36:57,  6.51s/it]\u001b[A\n",
            "iteration:  11%|█         | 108/1000 [12:03<1:36:30,  6.49s/it]\u001b[A\n",
            "iteration:  11%|█         | 109/1000 [12:09<1:36:10,  6.48s/it]\u001b[A\n",
            "iteration:  11%|█         | 110/1000 [12:18<1:48:02,  7.28s/it]\u001b[A"
          ]
        },
        {
          "output_type": "stream",
          "name": "stdout",
          "text": [
            "image updated at \"./ocean_deep\\abstract\\in_the_style_of_monet.png\"\n"
          ]
        },
        {
          "output_type": "display_data",
          "data": {
            "image/png": "./ocean_deepabstractin_the_style_of_monet.png",
            "text/plain": [
              "<IPython.core.display.Image object>"
            ]
          },
          "metadata": {}
        },
        {
          "output_type": "stream",
          "name": "stderr",
          "text": [
            "\n",
            "iteration:  11%|█         | 111/1000 [12:25<1:43:59,  7.02s/it]\u001b[A\n",
            "iteration:  11%|█         | 112/1000 [12:31<1:41:20,  6.85s/it]\u001b[A\n",
            "iteration:  11%|█▏        | 113/1000 [12:38<1:39:29,  6.73s/it]\u001b[A\n",
            "iteration:  11%|█▏        | 114/1000 [12:44<1:38:08,  6.65s/it]\u001b[A\n",
            "iteration:  12%|█▏        | 115/1000 [12:50<1:37:09,  6.59s/it]\u001b[A\n",
            "iteration:  12%|█▏        | 116/1000 [12:57<1:36:24,  6.54s/it]\u001b[A\n",
            "iteration:  12%|█▏        | 117/1000 [13:03<1:35:46,  6.51s/it]\u001b[A\n",
            "iteration:  12%|█▏        | 118/1000 [13:10<1:35:21,  6.49s/it]\u001b[A\n",
            "iteration:  12%|█▏        | 119/1000 [13:16<1:35:05,  6.48s/it]\u001b[A\n",
            "iteration:  12%|█▏        | 120/1000 [13:25<1:46:41,  7.27s/it]\u001b[A"
          ]
        },
        {
          "output_type": "stream",
          "name": "stdout",
          "text": [
            "image updated at \"./ocean_deep\\abstract\\in_the_style_of_monet.png\"\n"
          ]
        },
        {
          "output_type": "display_data",
          "data": {
            "image/png": "./ocean_deepabstractin_the_style_of_monet.png",
            "text/plain": [
              "<IPython.core.display.Image object>"
            ]
          },
          "metadata": {}
        },
        {
          "output_type": "stream",
          "name": "stderr",
          "text": [
            "\n",
            "iteration:  12%|█▏        | 121/1000 [13:32<1:42:36,  7.00s/it]\u001b[A\n",
            "iteration:  12%|█▏        | 122/1000 [13:38<1:39:57,  6.83s/it]\u001b[A\n",
            "iteration:  12%|█▏        | 123/1000 [13:45<1:38:05,  6.71s/it]\u001b[A\n",
            "iteration:  12%|█▏        | 124/1000 [13:51<1:36:48,  6.63s/it]\u001b[A"
          ]
        }
      ]
    }
  ]
}